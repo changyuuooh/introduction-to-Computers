{
  "nbformat": 4,
  "nbformat_minor": 0,
  "metadata": {
    "colab": {
      "name": "0307.ipynb",
      "provenance": [],
      "authorship_tag": "ABX9TyP1mEI/4KLFOmWkFUof1/53",
      "include_colab_link": true
    },
    "kernelspec": {
      "name": "python3",
      "display_name": "Python 3"
    },
    "language_info": {
      "name": "python"
    }
  },
  "cells": [
    {
      "cell_type": "markdown",
      "metadata": {
        "id": "view-in-github",
        "colab_type": "text"
      },
      "source": [
        "<a href=\"https://colab.research.google.com/github/changyuuooh/introduction-to-Computers/blob/main/0307.ipynb\" target=\"_parent\"><img src=\"https://colab.research.google.com/assets/colab-badge.svg\" alt=\"Open In Colab\"/></a>"
      ]
    },
    {
      "cell_type": "code",
      "execution_count": 2,
      "metadata": {
        "colab": {
          "base_uri": "https://localhost:8080/"
        },
        "id": "C12FTTIbhn3S",
        "outputId": "53db4368-bbd2-4530-e890-d4eec3a78d03"
      },
      "outputs": [
        {
          "output_type": "stream",
          "name": "stdout",
          "text": [
            "HiHi\n"
          ]
        }
      ],
      "source": [
        "print(\"HiHi\")"
      ]
    }
  ]
}