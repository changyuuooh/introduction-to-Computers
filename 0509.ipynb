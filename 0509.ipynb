{
  "nbformat": 4,
  "nbformat_minor": 0,
  "metadata": {
    "colab": {
      "name": "0509.ipynb",
      "provenance": [],
      "authorship_tag": "ABX9TyNsl/OdPs7Bh5J8/UZXR4Sb",
      "include_colab_link": true
    },
    "kernelspec": {
      "name": "python3",
      "display_name": "Python 3"
    },
    "language_info": {
      "name": "python"
    }
  },
  "cells": [
    {
      "cell_type": "markdown",
      "metadata": {
        "id": "view-in-github",
        "colab_type": "text"
      },
      "source": [
        "<a href=\"https://colab.research.google.com/github/changyuuooh/introduction-to-Computers/blob/main/0509.ipynb\" target=\"_parent\"><img src=\"https://colab.research.google.com/assets/colab-badge.svg\" alt=\"Open In Colab\"/></a>"
      ]
    },
    {
      "cell_type": "code",
      "execution_count": 1,
      "metadata": {
        "colab": {
          "base_uri": "https://localhost:8080/"
        },
        "id": "ShO8rfOV4DYZ",
        "outputId": "56149946-6256-4e88-d19c-a0981b50fe21"
      },
      "outputs": [
        {
          "output_type": "stream",
          "name": "stdout",
          "text": [
            "123\n"
          ]
        }
      ],
      "source": [
        "print('123')"
      ]
    },
    {
      "cell_type": "code",
      "source": [
        "temp = float(input('請輸入你的體溫:'))\n",
        "if temp >= 37.5 :\n",
        "    print('體溫過高!')\n",
        "elif temp >= 37 and temp <= 37.4 :\n",
        "    print('體溫略高!')\n",
        "\n",
        "else :\n",
        "    print('體溫異常, 請重新量測!')"
      ],
      "metadata": {
        "colab": {
          "base_uri": "https://localhost:8080/"
        },
        "id": "pwB3pbDC8PN8",
        "outputId": "e8d873c5-8978-40c2-cb85-a9e860644660"
      },
      "execution_count": 3,
      "outputs": [
        {
          "output_type": "stream",
          "name": "stdout",
          "text": [
            "請輸入你的體溫:33\n",
            "體溫異常, 請重新量測!\n"
          ]
        }
      ]
    },
    {
      "cell_type": "code",
      "source": [
        "temp = float(input('請輸入你的體溫:'))\n",
        "if temp >= 37.5 :\n",
        "    print('體溫過高!')\n",
        "elif temp >= 37 and temp <= 37.4 :\n",
        "    print('體溫略高!')\n",
        "elif temp >= 34 and temp <= 36.9 :\n",
        "    print('體溫正常!')\n",
        "else :\n",
        "    print('體溫異常, 請重新量測!')"
      ],
      "metadata": {
        "colab": {
          "base_uri": "https://localhost:8080/"
        },
        "id": "OmroHBwo90Hz",
        "outputId": "7b1afbd0-4fea-4c5f-bade-8568aa595a35"
      },
      "execution_count": 5,
      "outputs": [
        {
          "output_type": "stream",
          "name": "stdout",
          "text": [
            "請輸入你的體溫:36\n",
            "體溫正常!\n"
          ]
        }
      ]
    },
    {
      "cell_type": "code",
      "source": [
        "grade = input('請使用者輸入成績:')\n",
        "if (int(grade) >= 90) :\n",
        "    print('A')\n",
        "elif (int(grade) >= 80) :\n",
        "    print('B')\n",
        "elif (int(grade) >= 70) :\n",
        "    print('C')\n",
        "elif (int(grade) >= 60) :\n",
        "    print('D')   \n",
        "else :\n",
        "    print('E')"
      ],
      "metadata": {
        "colab": {
          "base_uri": "https://localhost:8080/"
        },
        "id": "X96qKH1x_hR7",
        "outputId": "d07b45a7-a94a-431c-b308-f9eb8da3de1e"
      },
      "execution_count": 15,
      "outputs": [
        {
          "output_type": "stream",
          "name": "stdout",
          "text": [
            "請使用者輸入成績:98\n",
            "A\n"
          ]
        }
      ]
    },
    {
      "cell_type": "code",
      "source": [
        "price = int(input('請輸入購物金額:'))\n",
        "if (price >= 10000) :\n",
        "  if(price >= 100000) :\n",
        "    print('八折', price *0.8 , end = '元\\n')\n",
        "  elif(price >= 50000) :\n",
        "    print('八五折' , price *0.85 , end = '元\\n')\n",
        "  elif(price >= 30000) :\n",
        "    print('九折' , price *0.9 , end = '元\\n')\n",
        "else :\n",
        "    print('沒打折' , price , end = '元\\n')"
      ],
      "metadata": {
        "colab": {
          "base_uri": "https://localhost:8080/"
        },
        "id": "R-dsi3rjEtNB",
        "outputId": "1db0a520-e028-4e82-bd71-0c5ae3db6083"
      },
      "execution_count": 19,
      "outputs": [
        {
          "output_type": "stream",
          "name": "stdout",
          "text": [
            "請輸入購物金額:54000\n",
            "八五折 45900.0元\n"
          ]
        }
      ]
    },
    {
      "cell_type": "code",
      "source": [
        "month = int(input('請使用者輸入月份:'))\n",
        "if (month <= 12 and month >= 1) :\n",
        "    if (month >= 3 and month <= 5) :\n",
        "     print(month,'月是春天!')\n",
        "    elif (month >= 6 and month <= 8) :\n",
        "     print(month,'月是夏天!')\n",
        "    elif (month >= 9 and month <= 11) :\n",
        "     print(month,'月是秋天!')\n",
        "    elif (month == 12 or 1 or 2) :\n",
        "     print(month,'月是冬天!')\n",
        "else :\n",
        "    print('月份不在範圍內!')"
      ],
      "metadata": {
        "colab": {
          "base_uri": "https://localhost:8080/"
        },
        "id": "KTQI4K06G9L6",
        "outputId": "79fe9512-8e7f-4324-9992-0ac2899caf55"
      },
      "execution_count": 41,
      "outputs": [
        {
          "output_type": "stream",
          "name": "stdout",
          "text": [
            "請使用者輸入月份:9\n",
            "9 月是秋天!\n"
          ]
        }
      ]
    },
    {
      "cell_type": "code",
      "source": [
        "income = int(input('請輸入今年收入淨額:'))\n",
        "if (income >= 300000) :\n",
        "    if (income >= 300000) :\n",
        "     print('付稅金額:',income*0.06,'元')\n",
        "    elif (income >= 600000) :\n",
        "     print('付稅金額:',income*0.13,'元')\n",
        "    elif (income >= 1000000) :\n",
        "     print('付稅金額:',income*0.21,'元')\n",
        "    elif (income >= 2000000) :\n",
        "     print('付稅金額:',income*0.3,'元')\n",
        "else :\n",
        "    print('付稅金額:',income*0,'元')"
      ],
      "metadata": {
        "colab": {
          "base_uri": "https://localhost:8080/"
        },
        "id": "eO_W7-AENDm_",
        "outputId": "b5775f01-0427-4387-9bb5-8fc006655b9a"
      },
      "execution_count": 48,
      "outputs": [
        {
          "output_type": "stream",
          "name": "stdout",
          "text": [
            "請輸入今年收入淨額:300000\n",
            "付稅金額: 18000.0 元\n"
          ]
        }
      ]
    }
  ]
}