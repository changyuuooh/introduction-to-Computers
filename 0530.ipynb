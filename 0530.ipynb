{
  "nbformat": 4,
  "nbformat_minor": 0,
  "metadata": {
    "colab": {
      "name": "0530.ipynb",
      "provenance": [],
      "authorship_tag": "ABX9TyMrlk+yTAM4UO5aW38YO5H/",
      "include_colab_link": true
    },
    "kernelspec": {
      "name": "python3",
      "display_name": "Python 3"
    },
    "language_info": {
      "name": "python"
    }
  },
  "cells": [
    {
      "cell_type": "markdown",
      "metadata": {
        "id": "view-in-github",
        "colab_type": "text"
      },
      "source": [
        "<a href=\"https://colab.research.google.com/github/changyuuooh/introduction-to-Computers/blob/main/0530.ipynb\" target=\"_parent\"><img src=\"https://colab.research.google.com/assets/colab-badge.svg\" alt=\"Open In Colab\"/></a>"
      ]
    },
    {
      "cell_type": "markdown",
      "source": [
        "九九乘法表"
      ],
      "metadata": {
        "id": "T3TI1sg3Cv2s"
      }
    },
    {
      "cell_type": "code",
      "execution_count": null,
      "metadata": {
        "colab": {
          "base_uri": "https://localhost:8080/"
        },
        "id": "45xZ5MguB4bd",
        "outputId": "ffa338d2-57ac-41e6-d649-2141a6b5abc0"
      },
      "outputs": [
        {
          "output_type": "stream",
          "name": "stdout",
          "text": [
            "2*1= 2  2*2= 4  2*3= 6  2*4= 8  2*5=10  2*6=12  2*7=14  2*8=16  2*9=18  \n",
            "3*1= 3  3*2= 6  3*3= 9  3*4=12  3*5=15  3*6=18  3*7=21  3*8=24  3*9=27  \n",
            "4*1= 4  4*2= 8  4*3=12  4*4=16  4*5=20  4*6=24  4*7=28  4*8=32  4*9=36  \n",
            "5*1= 5  5*2=10  5*3=15  5*4=20  5*5=25  5*6=30  5*7=35  5*8=40  5*9=45  \n",
            "6*1= 6  6*2=12  6*3=18  6*4=24  6*5=30  6*6=36  6*7=42  6*8=48  6*9=54  \n",
            "7*1= 7  7*2=14  7*3=21  7*4=28  7*5=35  7*6=42  7*7=49  7*8=56  7*9=63  \n",
            "8*1= 8  8*2=16  8*3=24  8*4=32  8*5=40  8*6=48  8*7=56  8*8=64  8*9=72  \n",
            "9*1= 9  9*2=18  9*3=27  9*4=36  9*5=45  9*6=54  9*7=63  9*8=72  9*9=81  \n"
          ]
        }
      ],
      "source": [
        "for i in range(2,10):\n",
        "    for j in range(1,10):\n",
        "        product = i*j\n",
        "        print('%d*%d=%2d  ' % (i, j, product),end='')\n",
        "    print()"
      ]
    },
    {
      "cell_type": "markdown",
      "source": [
        "最小公倍數"
      ],
      "metadata": {
        "id": "UnNEnNpEDu05"
      }
    },
    {
      "cell_type": "code",
      "source": [
        "a = int(input('請輸入a得值'))\n",
        "b = int(input('請輸入b得值'))\n",
        "\n",
        "maxno = a * b\n",
        "for i in range(1 , maxno+1):\n",
        "    if(i % a == 0 and i % b == 0):\n",
        "        break\n",
        "print('%d和 %d的最小公倍數 = %d' %(a,b,i))"
      ],
      "metadata": {
        "colab": {
          "base_uri": "https://localhost:8080/"
        },
        "id": "0n4CgkG8DuJa",
        "outputId": "deb211e4-9144-49a3-859a-8d363eb93152"
      },
      "execution_count": null,
      "outputs": [
        {
          "output_type": "stream",
          "name": "stdout",
          "text": [
            "請輸入a得值4\n",
            "請輸入b得值6\n",
            "4和 6的最小公倍數 = 12\n"
          ]
        }
      ]
    },
    {
      "cell_type": "markdown",
      "source": [
        "排除5的倍數"
      ],
      "metadata": {
        "id": "wfe0MMrbGY8S"
      }
    },
    {
      "cell_type": "code",
      "source": [
        "n = int(input('請輸入正整數: '))\n",
        "for i in range(1,n+1):\n",
        "    if i % 5 == 0:\n",
        "        continue\n",
        "    print(i, end=' ')"
      ],
      "metadata": {
        "colab": {
          "base_uri": "https://localhost:8080/"
        },
        "id": "UZfQ8EGLGROV",
        "outputId": "e42eb613-7963-47f9-a864-6dadbec58ef1"
      },
      "execution_count": null,
      "outputs": [
        {
          "output_type": "stream",
          "name": "stdout",
          "text": [
            "請輸入正整數: 22\n",
            "1 2 3 4 6 7 8 9 11 12 13 14 16 17 18 19 21 22 "
          ]
        }
      ]
    },
    {
      "cell_type": "markdown",
      "source": [
        "while"
      ],
      "metadata": {
        "id": "EO3XuuOuIYZM"
      }
    },
    {
      "cell_type": "code",
      "source": [
        "total = n = 0\n",
        "while n <= 10 :\n",
        "    total += n\n",
        "    n += 1\n",
        "print(total)"
      ],
      "metadata": {
        "colab": {
          "base_uri": "https://localhost:8080/"
        },
        "id": "uKF69xVRIZq3",
        "outputId": "4349b8e0-8ad9-4179-d524-f856c8184372"
      },
      "execution_count": null,
      "outputs": [
        {
          "output_type": "stream",
          "name": "stdout",
          "text": [
            "55\n"
          ]
        }
      ]
    },
    {
      "cell_type": "code",
      "source": [
        "total = i = 1\n",
        "n = int(input('請輸入正整數'))\n",
        "while i <= n:\n",
        "    total *= i\n",
        "    i += 1\n",
        "print('%d!=%d' % (n , total))"
      ],
      "metadata": {
        "colab": {
          "base_uri": "https://localhost:8080/"
        },
        "id": "q64WDkzcJh9x",
        "outputId": "21572805-8a5a-4497-ac82-c38e17d0dbe6"
      },
      "execution_count": null,
      "outputs": [
        {
          "output_type": "stream",
          "name": "stdout",
          "text": [
            "請輸入正整數4\n",
            "4!=24\n"
          ]
        }
      ]
    },
    {
      "cell_type": "markdown",
      "source": [
        "功課"
      ],
      "metadata": {
        "id": "_jEZWor5ZN1G"
      }
    },
    {
      "cell_type": "code",
      "source": [
        "total1 = n = 0\n",
        "total2 = n = 0\n",
        "while n <= 50:\n",
        "    if n % 2 ==0:\n",
        "        total1 += n\n",
        "        n += 1\n",
        "    else:\n",
        "        total2 += n\n",
        "        n += 1\n",
        "print('0~50的偶數和結果是%d' % (total1))\n",
        "print('0~50的奇數和結果是%d' % (total2))"
      ],
      "metadata": {
        "colab": {
          "base_uri": "https://localhost:8080/"
        },
        "id": "yBApS1FRNt91",
        "outputId": "1e7e573a-e637-4f6c-dcf8-f0dfcfacba5e"
      },
      "execution_count": 3,
      "outputs": [
        {
          "output_type": "stream",
          "name": "stdout",
          "text": [
            "0~50的偶數和結果是650\n",
            "0~50的奇數和結果是625\n"
          ]
        }
      ]
    },
    {
      "cell_type": "code",
      "source": [
        "n = int(input('請輸入一個正整數:'))\n",
        "for i in range(n):\n",
        "    print((n-i)*'*')"
      ],
      "metadata": {
        "colab": {
          "base_uri": "https://localhost:8080/"
        },
        "id": "nP835SVzZRth",
        "outputId": "4ba2492e-0abf-4feb-d59e-2f9fc0574541"
      },
      "execution_count": 3,
      "outputs": [
        {
          "output_type": "stream",
          "name": "stdout",
          "text": [
            "請輸入一個正整數:4\n",
            "****\n",
            "***\n",
            "**\n",
            "*\n"
          ]
        }
      ]
    },
    {
      "cell_type": "code",
      "source": [
        "a = 0\n",
        "for i in range(1,101):\n",
        "    if i % 3 == 0 or i % 7 == 0 :\n",
        "        a += i\n",
        "print('數值1~100中,是3或7的倍數的總和=',a)"
      ],
      "metadata": {
        "id": "-CHAePQTaZdy",
        "colab": {
          "base_uri": "https://localhost:8080/"
        },
        "outputId": "ce68b8a2-bb5e-49a8-e3a1-a846bc4352fc"
      },
      "execution_count": 5,
      "outputs": [
        {
          "output_type": "stream",
          "name": "stdout",
          "text": [
            "數值1~100中,是3或7的倍數的總和= 2208\n"
          ]
        }
      ]
    },
    {
      "cell_type": "code",
      "source": [
        "a = int(input('請輸入正整數:'))\n",
        "\n",
        "fac = [ ]\n",
        "for i in range (2,a):\n",
        "    if a % i == 0:\n",
        "        fac.append(i)\n",
        "        continue\n",
        "    else:\n",
        "        pass\n",
        "if len(fac) != 0:\n",
        "    fac.insert(0,1)\n",
        "    fac.extend([a])\n",
        "    print(str(a)+' 的因數有'+ str(fac))\n",
        "    print(str(a)+' 不是質數')\n",
        "else:\n",
        "    print(str(a)+' 的因數有1'+ str(a))\n",
        "    print(str(a)+' 是質數')"
      ],
      "metadata": {
        "colab": {
          "base_uri": "https://localhost:8080/"
        },
        "id": "kOiLj3PONZZ_",
        "outputId": "252e3ed6-3861-481a-c122-195ab5cd900c"
      },
      "execution_count": 6,
      "outputs": [
        {
          "output_type": "stream",
          "name": "stdout",
          "text": [
            "請輸入正整數:12\n",
            "12 的因數有[1, 2, 3, 4, 6, 12]\n",
            "12 不是質數\n"
          ]
        }
      ]
    }
  ]
}